{
 "cells": [
  {
   "cell_type": "markdown",
   "metadata": {},
   "source": [
    "<h1> 5. Interactive Data Analysis </h1>\n",
    "\n",
    "This notebook introduces carrying out interactive data analysis of data in BigQuery using Cloud Datalab.\n",
    "\n",
    "This cell, for example, is a mark-down cell.  Which is why you are seeing text. The cell that follows is a Python code cell. The output of that cell is whatever is printed out from it."
   ]
  },
  {
   "cell_type": "code",
   "execution_count": 1,
   "metadata": {
    "collapsed": false,
    "jupyter": {
     "outputs_hidden": false
    }
   },
   "outputs": [
    {
     "name": "stdout",
     "output_type": "stream",
     "text": [
      "a=3 b=8\n"
     ]
    }
   ],
   "source": [
    "a = 3\n",
    "b = a + 5\n",
    "print(\"a={} b={}\".format(a,b))"
   ]
  },
  {
   "cell_type": "markdown",
   "metadata": {},
   "source": [
    "Because the markdown comments are HTML, it can even include Javascript, for example to create a table of contents, as shown below:\n",
    "\n",
    "<div id=\"toc\"></div>"
   ]
  },
  {
   "cell_type": "markdown",
   "metadata": {},
   "source": [
    "<h2> Relative path </h2>\n",
    "\n",
    "I created this notebook in 05_bqnotebook folder of the git repo for the book. So, you might see a path that ends in that. But the path will start with /home/jupyter which is mapped to a local folder if you are running this in a container."
   ]
  },
  {
   "cell_type": "code",
   "execution_count": 2,
   "metadata": {
    "collapsed": false,
    "jupyter": {
     "outputs_hidden": false
    }
   },
   "outputs": [
    {
     "name": "stdout",
     "output_type": "stream",
     "text": [
      "/home/jupyter/data-science-on-gcp/05_bqnotebook\n"
     ]
    }
   ],
   "source": [
    "!pwd"
   ]
  },
  {
   "cell_type": "markdown",
   "metadata": {},
   "source": [
    "<h2> What's installed? </h2>"
   ]
  },
  {
   "cell_type": "code",
   "execution_count": 3,
   "metadata": {
    "collapsed": false,
    "jupyter": {
     "outputs_hidden": false
    }
   },
   "outputs": [
    {
     "name": "stdout",
     "output_type": "stream",
     "text": [
      "adal==1.2.2\n",
      "alabaster==0.7.12\n",
      "anaconda-client==1.7.2\n",
      "anaconda-project==0.8.3\n",
      "ansiwrap==0.8.4\n",
      "appdirs==1.4.3\n",
      "argh==0.26.2\n",
      "arrow @ file:///home/conda/feedstock_root/build_artifacts/arrow_1588902968139/work\n",
      "asn1crypto @ file:///home/conda/feedstock_root/build_artifacts/asn1crypto_1588618038116/work\n",
      "astroid @ file:///home/conda/feedstock_root/build_artifacts/astroid_1588698301259/work\n",
      "astropy==4.0.1.post1\n",
      "async-generator==1.10\n",
      "atomicwrites @ file:///home/conda/feedstock_root/build_artifacts/atomicwrites_1588182545583/work\n",
      "attrs==19.3.0\n",
      "autopep8==1.5.2\n",
      "Babel==2.8.0\n",
      "backcall==0.1.0\n",
      "backports.shutil-get-terminal-size==1.0.0\n",
      "bcolz==1.2.1\n",
      "beautifulsoup4==4.9.0\n",
      "binaryornot==0.4.4\n",
      "bitarray==1.2.1\n",
      "bkcharts==0.2\n",
      "black==19.10b0\n",
      "bleach @ file:///home/conda/feedstock_root/build_artifacts/bleach_1588608214987/work\n",
      "blinker==1.4\n",
      "bokeh==2.0.1\n",
      "boto==2.49.0\n",
      "Bottleneck==1.3.2\n",
      "brotlipy==0.7.0\n",
      "cachetools==3.1.1\n",
      "certifi==2020.4.5.1\n",
      "cffi==1.14.0\n",
      "chardet==3.0.4\n",
      "click==7.1.2\n",
      "cloudpickle @ file:///home/conda/feedstock_root/build_artifacts/cloudpickle_1588164361239/work\n",
      "clyent==1.2.2\n",
      "colorama==0.4.3\n",
      "conda==4.8.3\n",
      "conda-package-handling==1.6.0\n",
      "confuse==1.1.0\n",
      "contextlib2==0.6.0.post1\n",
      "cookiecutter==1.7.2\n",
      "cryptography==2.9.2\n",
      "cycler==0.10.0\n",
      "Cython==0.29.17\n",
      "cytoolz==0.10.1\n",
      "dask @ file:///home/conda/feedstock_root/build_artifacts/dask-core_1588975274559/work\n",
      "decorator==4.4.2\n",
      "defusedxml==0.6.0\n",
      "diff-match-patch==20181111\n",
      "distributed @ file:///home/conda/feedstock_root/build_artifacts/distributed_1588976153416/work\n",
      "docker @ file:///home/conda/feedstock_root/build_artifacts/docker-py_1589213453728/work\n",
      "docker-pycreds==0.4.0\n",
      "docutils==0.16\n",
      "entrypoints==0.3\n",
      "et-xmlfile==1.0.1\n",
      "fastcache==1.1.0\n",
      "filelock==3.0.10\n",
      "flake8==3.7.9\n",
      "Flask==1.1.2\n",
      "fsspec==0.7.3\n",
      "future==0.18.2\n",
      "gcsfs @ file:///home/conda/feedstock_root/build_artifacts/gcsfs_1588858323173/work\n",
      "gevent @ file:///home/conda/feedstock_root/build_artifacts/gevent_1588347473328/work\n",
      "gitdb @ file:///home/conda/feedstock_root/build_artifacts/gitdb_1588651542737/work\n",
      "GitPython @ file:///home/conda/feedstock_root/build_artifacts/gitpython_1588692249495/work\n",
      "glob2==0.7\n",
      "gmpy2==2.1.0b1\n",
      "google-api-core==1.17.0\n",
      "google-api-python-client==1.8.2\n",
      "google-auth @ file:///home/conda/feedstock_root/build_artifacts/google-auth_1588876379852/work\n",
      "google-auth-httplib2==0.0.3\n",
      "google-auth-oauthlib==0.4.1\n",
      "google-cloud==0.34.0\n",
      "google-cloud-bigquery==1.24.0\n",
      "google-cloud-bigtable==1.2.1\n",
      "google-cloud-core==1.3.0\n",
      "google-cloud-dataproc==0.7.0\n",
      "google-cloud-datastore==1.12.0\n",
      "google-cloud-firestore==1.6.2\n",
      "google-cloud-kms==1.4.0\n",
      "google-cloud-language==1.3.0\n",
      "google-cloud-logging==1.15.0\n",
      "google-cloud-pubsub==1.4.3\n",
      "google-cloud-scheduler==1.2.1\n",
      "google-cloud-spanner==1.16.0\n",
      "google-cloud-speech==1.3.2\n",
      "google-cloud-storage==1.28.1\n",
      "google-cloud-tasks==1.5.0\n",
      "google-cloud-translate==2.0.1\n",
      "google-cloud-videointelligence==1.14.0\n",
      "google-cloud-vision==1.0.0\n",
      "google-resumable-media==0.5.0\n",
      "googleapis-common-protos==1.51.0\n",
      "greenlet==0.4.15\n",
      "grpc-google-iam-v1==0.12.3\n",
      "grpcio==1.23.0\n",
      "grpcio-gcp==0.2.2\n",
      "h5py==2.10.0\n",
      "HeapDict==1.0.1\n",
      "html5lib==1.0.1\n",
      "htmlmin==0.1.12\n",
      "httplib2==0.17.3\n",
      "hypothesis @ file:///home/conda/feedstock_root/build_artifacts/hypothesis_1589118396261/work\n",
      "idna==2.9\n",
      "imagecodecs-lite==2019.12.3\n",
      "imageio==2.8.0\n",
      "imagesize==1.2.0\n",
      "importlib-metadata==1.6.0\n",
      "intervaltree==3.0.2\n",
      "ipykernel==5.2.1\n",
      "ipython @ file:///home/conda/feedstock_root/build_artifacts/ipython_1588362967322/work\n",
      "ipython-genutils==0.2.0\n",
      "ipython-sql @ file:///home/conda/feedstock_root/build_artifacts/ipython-sql_1588134460796/work\n",
      "ipywidgets==7.5.1\n",
      "isort==4.3.21\n",
      "itsdangerous==1.1.0\n",
      "jdcal==1.4.1\n",
      "jedi==0.15.2\n",
      "jeepney==0.4.3\n",
      "Jinja2==2.11.2\n",
      "jinja2-time==0.2.0\n",
      "joblib==0.14.1\n",
      "json5==0.9.0\n",
      "jsonschema==3.2.0\n",
      "jupyter-aihub-deploy-extension @ file:///opt/conda/conda-bld/dlenv-base_1589216336682/work/packages/aihub/jupyter_aihub_deploy_extension\n",
      "jupyter-client==6.1.3\n",
      "jupyter-console==6.1.0\n",
      "jupyter-core==4.6.3\n",
      "jupyter-http-over-ws==0.0.8\n",
      "jupyterlab==1.2.15\n",
      "jupyterlab-git==0.10.1\n",
      "jupyterlab-server @ file:///home/conda/feedstock_root/build_artifacts/jupyterlab_server_1588946599005/work\n",
      "keyring @ file:///home/conda/feedstock_root/build_artifacts/keyring_1588433935863/work\n",
      "kiwisolver==1.2.0\n",
      "kubernetes @ file:///home/conda/feedstock_root/build_artifacts/python-kubernetes_1588618980778/work\n",
      "lazy-object-proxy==1.4.3\n",
      "libarchive-c==2.9\n",
      "lief==0.9.0\n",
      "llvmlite==0.31.0\n",
      "locket==0.2.0\n",
      "lxml==4.5.0\n",
      "Markdown==3.2.1\n",
      "MarkupSafe==1.1.1\n",
      "matplotlib==3.2.1\n",
      "mccabe==0.6.1\n",
      "missingno==0.4.2\n",
      "mistune==0.8.4\n",
      "mkl-fft==1.1.0\n",
      "mkl-random==1.1.0\n",
      "mkl-service==2.3.0\n",
      "mock @ file:///home/conda/feedstock_root/build_artifacts/mock_1588618847833/work\n",
      "more-itertools==8.2.0\n",
      "mpmath==1.1.0\n",
      "msgpack==1.0.0\n",
      "multipledispatch==0.6.0\n",
      "mypy-extensions==0.4.3\n",
      "nb-conda==2.2.1\n",
      "nb-conda-kernels==2.2.3\n",
      "nbclient==0.2.0\n",
      "nbconvert==5.6.1\n",
      "nbdime @ file:///home/conda/feedstock_root/build_artifacts/nbdime_1588773248389/work\n",
      "nbformat==5.0.6\n",
      "nbpresent==3.0.2\n",
      "nest-asyncio @ file:///home/conda/feedstock_root/build_artifacts/nest-asyncio_1588514211290/work\n",
      "networkx==2.4\n",
      "nltk==3.4.4\n",
      "nose==1.3.7\n",
      "notebook @ file:///home/conda/feedstock_root/build_artifacts/notebook_1588887226267/work\n",
      "notebook-executor @ file:///opt/conda/conda-bld/dlenv-base_1589216336682/work/packages/notebook_executor\n",
      "numba==0.48.0\n",
      "numexpr==2.7.1\n",
      "numpy @ file:///home/conda/feedstock_root/build_artifacts/numpy_1588605083040/work\n",
      "numpydoc==0.9.2\n",
      "oauthlib==3.0.1\n",
      "olefile==0.46\n",
      "openpyxl==3.0.3\n",
      "packaging==20.1\n",
      "pandas==1.0.3\n",
      "pandas-profiling==2.6.0\n",
      "pandocfilters==1.4.2\n",
      "papermill==2.1.0\n",
      "parso==0.5.2\n",
      "partd==1.1.0\n",
      "path==13.2.0\n",
      "path.py==12.0.2\n",
      "pathlib2==2.3.5\n",
      "pathspec==0.8.0\n",
      "pathtools==0.1.2\n",
      "patsy==0.5.1\n",
      "pep8==1.7.1\n",
      "pexpect==4.8.0\n",
      "phik==0.9.11\n",
      "pickleshare==0.7.5\n",
      "Pillow==7.1.2\n",
      "pkginfo==1.5.0.1\n",
      "pluggy @ file:///home/conda/feedstock_root/build_artifacts/pluggy_1588616566123/work\n",
      "ply==3.11\n",
      "pooch==1.1.0\n",
      "poyo==0.5.0\n",
      "prettytable==0.7.2\n",
      "prometheus-client==0.7.1\n",
      "prompt-toolkit==3.0.5\n",
      "protobuf==3.11.4\n",
      "psutil==5.7.0\n",
      "ptyprocess==0.6.0\n",
      "py==1.8.1\n",
      "pyarrow==0.17.0\n",
      "pyasn1==0.4.8\n",
      "pyasn1-modules==0.2.7\n",
      "pycodestyle==2.5.0\n",
      "pycosat==0.6.3\n",
      "pycparser==2.20\n",
      "pycrypto==2.6.1\n",
      "pycurl==7.43.0.5\n",
      "pydocstyle==5.0.2\n",
      "pydot==1.4.1\n",
      "pyflakes==2.1.1\n",
      "Pygments==2.6.1\n",
      "PyJWT==1.7.1\n",
      "pylint @ file:///home/conda/feedstock_root/build_artifacts/pylint_1588950503635/work\n",
      "pyodbc==4.0.30\n",
      "pyOpenSSL==19.1.0\n",
      "pyparsing==2.4.7\n",
      "PyQt5==5.12.3\n",
      "PyQt5-sip==4.19.18\n",
      "PyQtChart==5.12\n",
      "PyQtWebEngine==5.12.1\n",
      "pyrsistent==0.16.0\n",
      "PySocks==1.7.1\n",
      "pytest==5.4.2\n",
      "pytest-arraydiff==0.3\n",
      "pytest-astropy==0.7.0\n",
      "pytest-astropy-header==0.1.2\n",
      "pytest-doctestplus @ file:///home/conda/feedstock_root/build_artifacts/pytest-doctestplus_1588699114696/work\n",
      "pytest-openfiles==0.4.0\n",
      "pytest-remotedata==0.3.1\n",
      "python-dateutil==2.8.1\n",
      "python-jsonrpc-server @ file:///home/conda/feedstock_root/build_artifacts/python-jsonrpc-server_1588783985962/work\n",
      "python-language-server==0.31.10\n",
      "python-slugify==4.0.0\n",
      "pytz==2020.1\n",
      "PyWavelets==1.1.1\n",
      "pyxdg==0.26\n",
      "PyYAML==5.3.1\n",
      "pyzmq==19.0.1\n",
      "QDarkStyle==2.8.1\n",
      "QtAwesome @ file:///home/conda/feedstock_root/build_artifacts/qtawesome_1588715536397/work\n",
      "qtconsole==4.7.3\n",
      "QtPy==1.9.0\n",
      "regex @ file:///home/conda/feedstock_root/build_artifacts/regex_1588873419505/work\n",
      "requests==2.23.0\n",
      "requests-oauthlib==1.2.0\n",
      "retrying==1.3.3\n",
      "rope @ file:///home/conda/feedstock_root/build_artifacts/rope_1588950285934/work\n",
      "rsa==4.0\n",
      "Rtree==0.9.4\n",
      "ruamel-yaml==0.15.80\n",
      "scikit-image==0.17.1\n",
      "scikit-learn==0.22.2.post1\n",
      "scipy==1.4.1\n",
      "seaborn==0.10.1\n",
      "SecretStorage==3.1.2\n",
      "Send2Trash==1.5.0\n",
      "simplegeneric==0.8.1\n",
      "simplejson @ file:///home/conda/feedstock_root/build_artifacts/simplejson_1588608463837/work\n",
      "singledispatch==3.4.0.3\n",
      "sip==4.19.22\n",
      "six==1.14.0\n",
      "smmap @ file:///home/conda/feedstock_root/build_artifacts/smmap_1588651577140/work\n",
      "snowballstemmer==2.0.0\n",
      "sortedcollections==1.1.2\n",
      "sortedcontainers==2.1.0\n",
      "soupsieve==1.9.4\n",
      "Sphinx==3.0.3\n",
      "sphinxcontrib-applehelp==1.0.2\n",
      "sphinxcontrib-devhelp==1.0.2\n",
      "sphinxcontrib-htmlhelp==1.0.3\n",
      "sphinxcontrib-jsmath==1.0.1\n",
      "sphinxcontrib-qthelp==1.0.3\n",
      "sphinxcontrib-serializinghtml==1.1.4\n",
      "sphinxcontrib-websupport @ file:///home/conda/feedstock_root/build_artifacts/sphinxcontrib-websupport_1588158706257/work\n",
      "spyder @ file:///home/conda/feedstock_root/build_artifacts/spyder_1588993801519/work\n",
      "spyder-kernels @ file:///home/conda/feedstock_root/build_artifacts/spyder-kernels_1588785827687/work\n",
      "SQLAlchemy==1.3.16\n",
      "sqlparse==0.3.1\n",
      "statsmodels==0.11.1\n",
      "sympy==1.5.1\n",
      "tables==3.6.1\n",
      "tangled-up-in-unicode==0.0.4\n",
      "tblib==1.6.0\n",
      "tenacity @ file:///home/conda/feedstock_root/build_artifacts/tenacity_1588242769366/work\n",
      "terminado==0.8.3\n",
      "testpath==0.4.4\n",
      "text-unidecode==1.3\n",
      "textwrap3==0.9.2\n",
      "tifffile @ file:///home/conda/feedstock_root/build_artifacts/tifffile_1588896076907/work\n",
      "toml==0.10.0\n",
      "toolz==0.10.0\n",
      "tornado==6.0.4\n",
      "tqdm @ file:///home/conda/feedstock_root/build_artifacts/tqdm_1588513834538/work\n",
      "traitlets==4.3.3\n",
      "typed-ast==1.4.1\n",
      "typing-extensions @ file:///home/conda/feedstock_root/build_artifacts/typing_extensions_1588470653596/work\n",
      "ujson==1.35\n",
      "unicodecsv==0.14.1\n",
      "Unidecode==1.1.1\n",
      "uritemplate==3.0.1\n",
      "urllib3==1.25.9\n",
      "visions==0.4.1\n",
      "watchdog==0.10.2\n",
      "wcwidth==0.1.9\n",
      "webencodings==0.5.1\n",
      "websocket-client==0.57.0\n",
      "Werkzeug==1.0.1\n",
      "whichcraft==0.6.1\n",
      "widgetsnbextension==3.5.1\n",
      "wrapt==1.11.2\n",
      "wurlitzer==2.0.0\n",
      "xlrd==1.2.0\n",
      "XlsxWriter==1.2.8\n",
      "xlwt==1.3.0\n",
      "yapf==0.29.0\n",
      "zict==2.0.0\n",
      "zipp==3.1.0\n",
      "Note: you may need to restart the kernel to use updated packages.\n"
     ]
    }
   ],
   "source": [
    "%pip freeze"
   ]
  },
  {
   "cell_type": "code",
   "execution_count": 4,
   "metadata": {},
   "outputs": [],
   "source": [
    "import matplotlib.pyplot as plt\n",
    "import seaborn as sns\n",
    "import pandas as pd\n",
    "import numpy as np"
   ]
  },
  {
   "cell_type": "markdown",
   "metadata": {},
   "source": [
    "<h2> Installing dependencies </h2>\n",
    "\n",
    "Regular Python dependencies can be installed using pip"
   ]
  },
  {
   "cell_type": "code",
   "execution_count": 5,
   "metadata": {
    "collapsed": false,
    "jupyter": {
     "outputs_hidden": false
    }
   },
   "outputs": [
    {
     "name": "stdout",
     "output_type": "stream",
     "text": [
      "Requirement already satisfied: google-cloud in /opt/conda/lib/python3.7/site-packages (0.34.0)\n",
      "Note: you may need to restart the kernel to use updated packages.\n"
     ]
    }
   ],
   "source": [
    "%pip install google-cloud"
   ]
  },
  {
   "cell_type": "code",
   "execution_count": 6,
   "metadata": {
    "collapsed": false,
    "jupyter": {
     "outputs_hidden": false
    }
   },
   "outputs": [
    {
     "name": "stdout",
     "output_type": "stream",
     "text": [
      "Ign:1 http://deb.debian.org/debian stretch InRelease\n",
      "Hit:2 http://deb.debian.org/debian stretch-updates InRelease\n",
      "Hit:3 http://deb.debian.org/debian stretch-backports InRelease\n",
      "Hit:4 http://deb.debian.org/debian stretch Release\n",
      "Hit:5 http://security.debian.org stretch/updates InRelease\n",
      "Hit:6 http://packages.cloud.google.com/apt gcsfuse-stretch InRelease\n",
      "Hit:7 https://download.docker.com/linux/debian stretch InRelease\n",
      "Hit:8 http://packages.cloud.google.com/apt cloud-sdk-stretch InRelease\n",
      "Hit:9 http://packages.cloud.google.com/apt google-compute-engine-stretch-stable InRelease\n",
      "Hit:11 http://packages.cloud.google.com/apt google-cloud-packages-archive-keyring-stretch InRelease\n",
      "Hit:10 https://packages.cloud.google.com/apt kubernetes-xenial InRelease\n",
      "Reading package lists...\n",
      "Reading package lists...\n",
      "Building dependency tree...\n",
      "Reading state information...\n",
      "python-mpltoolkits.basemap is already the newest version (1.0.7+dfsg-4).\n",
      "0 upgraded, 0 newly installed, 0 to remove and 11 not upgraded.\n"
     ]
    }
   ],
   "source": [
    "%%bash\n",
    "sudo apt-get update\n",
    "sudo apt-get -y install python-mpltoolkits.basemap"
   ]
  },
  {
   "cell_type": "markdown",
   "metadata": {},
   "source": [
    "<h2> Juypter magic </h2>"
   ]
  },
  {
   "cell_type": "code",
   "execution_count": 7,
   "metadata": {
    "collapsed": false,
    "jupyter": {
     "outputs_hidden": false
    }
   },
   "outputs": [
    {
     "data": {
      "text/html": [
       "This cell will print out a <b> HTML </b> string.\n"
      ],
      "text/plain": [
       "<IPython.core.display.HTML object>"
      ]
     },
     "metadata": {},
     "output_type": "display_data"
    }
   ],
   "source": [
    "%%html\n",
    "This cell will print out a <b> HTML </b> string."
   ]
  },
  {
   "cell_type": "code",
   "execution_count": 8,
   "metadata": {
    "collapsed": false,
    "jupyter": {
     "outputs_hidden": false
    }
   },
   "outputs": [
    {
     "data": {
      "text/html": [
       "<div>\n",
       "<style scoped>\n",
       "    .dataframe tbody tr th:only-of-type {\n",
       "        vertical-align: middle;\n",
       "    }\n",
       "\n",
       "    .dataframe tbody tr th {\n",
       "        vertical-align: top;\n",
       "    }\n",
       "\n",
       "    .dataframe thead th {\n",
       "        text-align: right;\n",
       "    }\n",
       "</style>\n",
       "<table border=\"1\" class=\"dataframe\">\n",
       "  <thead>\n",
       "    <tr style=\"text-align: right;\">\n",
       "      <th></th>\n",
       "      <th>frac_delayed</th>\n",
       "    </tr>\n",
       "  </thead>\n",
       "  <tbody>\n",
       "    <tr>\n",
       "      <th>0</th>\n",
       "      <td>0.184523</td>\n",
       "    </tr>\n",
       "  </tbody>\n",
       "</table>\n",
       "</div>"
      ],
      "text/plain": [
       "   frac_delayed\n",
       "0      0.184523"
      ]
     },
     "execution_count": 8,
     "metadata": {},
     "output_type": "execute_result"
    }
   ],
   "source": [
    "%%bigquery\n",
    "SELECT \n",
    "  COUNTIF(arr_delay >= 15)/COUNT(arr_delay) AS frac_delayed\n",
    "FROM flights.tzcorr"
   ]
  },
  {
   "cell_type": "markdown",
   "metadata": {},
   "source": [
    "<h2> Calls to BigQuery </h2>\n",
    "\n",
    "Let's draw a PDF of different arrival delays"
   ]
  },
  {
   "cell_type": "code",
   "execution_count": 9,
   "metadata": {
    "collapsed": false,
    "jupyter": {
     "outputs_hidden": false
    }
   },
   "outputs": [],
   "source": [
    "%%bigquery df\n",
    "SELECT ARR_DELAY, DEP_DELAY\n",
    "FROM flights.tzcorr\n",
    "WHERE DEP_DELAY >= 10 AND RAND() < 0.01"
   ]
  },
  {
   "cell_type": "code",
   "execution_count": 10,
   "metadata": {
    "collapsed": false,
    "jupyter": {
     "outputs_hidden": false
    }
   },
   "outputs": [
    {
     "data": {
      "text/html": [
       "<div>\n",
       "<style scoped>\n",
       "    .dataframe tbody tr th:only-of-type {\n",
       "        vertical-align: middle;\n",
       "    }\n",
       "\n",
       "    .dataframe tbody tr th {\n",
       "        vertical-align: top;\n",
       "    }\n",
       "\n",
       "    .dataframe thead th {\n",
       "        text-align: right;\n",
       "    }\n",
       "</style>\n",
       "<table border=\"1\" class=\"dataframe\">\n",
       "  <thead>\n",
       "    <tr style=\"text-align: right;\">\n",
       "      <th></th>\n",
       "      <th>ARR_DELAY</th>\n",
       "      <th>DEP_DELAY</th>\n",
       "    </tr>\n",
       "  </thead>\n",
       "  <tbody>\n",
       "    <tr>\n",
       "      <th>count</th>\n",
       "      <td>13829.000000</td>\n",
       "      <td>13909.000000</td>\n",
       "    </tr>\n",
       "    <tr>\n",
       "      <th>mean</th>\n",
       "      <td>46.495697</td>\n",
       "      <td>51.492127</td>\n",
       "    </tr>\n",
       "    <tr>\n",
       "      <th>std</th>\n",
       "      <td>67.199486</td>\n",
       "      <td>65.138095</td>\n",
       "    </tr>\n",
       "    <tr>\n",
       "      <th>min</th>\n",
       "      <td>-78.000000</td>\n",
       "      <td>10.000000</td>\n",
       "    </tr>\n",
       "    <tr>\n",
       "      <th>25%</th>\n",
       "      <td>11.000000</td>\n",
       "      <td>17.000000</td>\n",
       "    </tr>\n",
       "    <tr>\n",
       "      <th>50%</th>\n",
       "      <td>27.000000</td>\n",
       "      <td>30.000000</td>\n",
       "    </tr>\n",
       "    <tr>\n",
       "      <th>75%</th>\n",
       "      <td>58.000000</td>\n",
       "      <td>60.000000</td>\n",
       "    </tr>\n",
       "    <tr>\n",
       "      <th>max</th>\n",
       "      <td>1185.000000</td>\n",
       "      <td>1194.000000</td>\n",
       "    </tr>\n",
       "  </tbody>\n",
       "</table>\n",
       "</div>"
      ],
      "text/plain": [
       "          ARR_DELAY     DEP_DELAY\n",
       "count  13829.000000  13909.000000\n",
       "mean      46.495697     51.492127\n",
       "std       67.199486     65.138095\n",
       "min      -78.000000     10.000000\n",
       "25%       11.000000     17.000000\n",
       "50%       27.000000     30.000000\n",
       "75%       58.000000     60.000000\n",
       "max     1185.000000   1194.000000"
      ]
     },
     "execution_count": 10,
     "metadata": {},
     "output_type": "execute_result"
    }
   ],
   "source": [
    "df.describe()"
   ]
  },
  {
   "cell_type": "code",
   "execution_count": 11,
   "metadata": {
    "collapsed": false,
    "jupyter": {
     "outputs_hidden": false
    }
   },
   "outputs": [
    {
     "data": {
      "image/png": "[encoded data removed]",
      "text/plain": [
       "<Figure size 432x288 with 1 Axes>"
      ]
     },
     "metadata": {},
     "output_type": "display_data"
    }
   ],
   "source": [
    "sns.set_style(\"whitegrid\")\n",
    "ax = sns.violinplot(data=df, x='ARR_DELAY', inner='box', orient='h')\n",
    "#ax.axes.set_xlim(0, 30)"
   ]
  },
  {
   "cell_type": "code",
   "execution_count": 12,
   "metadata": {},
   "outputs": [],
   "source": [
    "%%bigquery df\n",
    "SELECT ARR_DELAY, DEP_DELAY\n",
    "FROM flights.tzcorr\n",
    "WHERE RAND() < 0.001"
   ]
  },
  {
   "cell_type": "code",
   "execution_count": 13,
   "metadata": {
    "collapsed": false,
    "jupyter": {
     "outputs_hidden": false
    }
   },
   "outputs": [
    {
     "data": {
      "text/html": [
       "<div>\n",
       "<style scoped>\n",
       "    .dataframe tbody tr th:only-of-type {\n",
       "        vertical-align: middle;\n",
       "    }\n",
       "\n",
       "    .dataframe tbody tr th {\n",
       "        vertical-align: top;\n",
       "    }\n",
       "\n",
       "    .dataframe thead th {\n",
       "        text-align: right;\n",
       "    }\n",
       "</style>\n",
       "<table border=\"1\" class=\"dataframe\">\n",
       "  <thead>\n",
       "    <tr style=\"text-align: right;\">\n",
       "      <th></th>\n",
       "      <th>ARR_DELAY</th>\n",
       "      <th>DEP_DELAY</th>\n",
       "    </tr>\n",
       "  </thead>\n",
       "  <tbody>\n",
       "    <tr>\n",
       "      <th>count</th>\n",
       "      <td>5981.000000</td>\n",
       "      <td>6008.000000</td>\n",
       "    </tr>\n",
       "    <tr>\n",
       "      <th>mean</th>\n",
       "      <td>3.882294</td>\n",
       "      <td>9.177597</td>\n",
       "    </tr>\n",
       "    <tr>\n",
       "      <th>std</th>\n",
       "      <td>40.526908</td>\n",
       "      <td>38.512939</td>\n",
       "    </tr>\n",
       "    <tr>\n",
       "      <th>min</th>\n",
       "      <td>-65.000000</td>\n",
       "      <td>-20.000000</td>\n",
       "    </tr>\n",
       "    <tr>\n",
       "      <th>25%</th>\n",
       "      <td>-14.000000</td>\n",
       "      <td>-5.000000</td>\n",
       "    </tr>\n",
       "    <tr>\n",
       "      <th>50%</th>\n",
       "      <td>-5.000000</td>\n",
       "      <td>-2.000000</td>\n",
       "    </tr>\n",
       "    <tr>\n",
       "      <th>75%</th>\n",
       "      <td>7.000000</td>\n",
       "      <td>7.000000</td>\n",
       "    </tr>\n",
       "    <tr>\n",
       "      <th>max</th>\n",
       "      <td>1237.000000</td>\n",
       "      <td>1255.000000</td>\n",
       "    </tr>\n",
       "  </tbody>\n",
       "</table>\n",
       "</div>"
      ],
      "text/plain": [
       "         ARR_DELAY    DEP_DELAY\n",
       "count  5981.000000  6008.000000\n",
       "mean      3.882294     9.177597\n",
       "std      40.526908    38.512939\n",
       "min     -65.000000   -20.000000\n",
       "25%     -14.000000    -5.000000\n",
       "50%      -5.000000    -2.000000\n",
       "75%       7.000000     7.000000\n",
       "max    1237.000000  1255.000000"
      ]
     },
     "execution_count": 13,
     "metadata": {},
     "output_type": "execute_result"
    }
   ],
   "source": [
    "df.describe()"
   ]
  },
  {
   "cell_type": "code",
   "execution_count": 14,
   "metadata": {
    "collapsed": false,
    "jupyter": {
     "outputs_hidden": false
    }
   },
   "outputs": [
    {
     "data": {
      "text/html": [
       "<div>\n",
       "<style scoped>\n",
       "    .dataframe tbody tr th:only-of-type {\n",
       "        vertical-align: middle;\n",
       "    }\n",
       "\n",
       "    .dataframe tbody tr th {\n",
       "        vertical-align: top;\n",
       "    }\n",
       "\n",
       "    .dataframe thead th {\n",
       "        text-align: right;\n",
       "    }\n",
       "</style>\n",
       "<table border=\"1\" class=\"dataframe\">\n",
       "  <thead>\n",
       "    <tr style=\"text-align: right;\">\n",
       "      <th></th>\n",
       "      <th>ARR_DELAY</th>\n",
       "      <th>DEP_DELAY</th>\n",
       "      <th>ontime</th>\n",
       "    </tr>\n",
       "  </thead>\n",
       "  <tbody>\n",
       "    <tr>\n",
       "      <th>1</th>\n",
       "      <td>12.0</td>\n",
       "      <td>3.0</td>\n",
       "      <td>True</td>\n",
       "    </tr>\n",
       "    <tr>\n",
       "      <th>5</th>\n",
       "      <td>9.0</td>\n",
       "      <td>16.0</td>\n",
       "      <td>False</td>\n",
       "    </tr>\n",
       "    <tr>\n",
       "      <th>8</th>\n",
       "      <td>2.0</td>\n",
       "      <td>5.0</td>\n",
       "      <td>True</td>\n",
       "    </tr>\n",
       "    <tr>\n",
       "      <th>10</th>\n",
       "      <td>18.0</td>\n",
       "      <td>22.0</td>\n",
       "      <td>False</td>\n",
       "    </tr>\n",
       "    <tr>\n",
       "      <th>12</th>\n",
       "      <td>24.0</td>\n",
       "      <td>17.0</td>\n",
       "      <td>False</td>\n",
       "    </tr>\n",
       "  </tbody>\n",
       "</table>\n",
       "</div>"
      ],
      "text/plain": [
       "    ARR_DELAY  DEP_DELAY  ontime\n",
       "1        12.0        3.0    True\n",
       "5         9.0       16.0   False\n",
       "8         2.0        5.0    True\n",
       "10       18.0       22.0   False\n",
       "12       24.0       17.0   False"
      ]
     },
     "execution_count": 14,
     "metadata": {},
     "output_type": "execute_result"
    }
   ],
   "source": [
    "df['ontime'] = df['DEP_DELAY'] < 10\n",
    "df[df['ARR_DELAY'] > 0].head()"
   ]
  },
  {
   "cell_type": "code",
   "execution_count": 15,
   "metadata": {
    "collapsed": false,
    "jupyter": {
     "outputs_hidden": false
    }
   },
   "outputs": [
    {
     "data": {
      "text/plain": [
       "(-50.0, 200.0)"
      ]
     },
     "execution_count": 15,
     "metadata": {},
     "output_type": "execute_result"
    },
    {
     "data": {
      "image/png": "[encoded data removed]",
      "text/plain": [
       "<Figure size 432x288 with 1 Axes>"
      ]
     },
     "metadata": {},
     "output_type": "display_data"
    }
   ],
   "source": [
    "import seaborn as sns\n",
    "sns.set_style(\"whitegrid\")\n",
    "ax = sns.violinplot(data=df, x='ARR_DELAY', y='ontime', inner='box', orient='h')\n",
    "ax.set_xlim(-50, 200)"
   ]
  },
  {
   "cell_type": "code",
   "execution_count": 16,
   "metadata": {
    "collapsed": false,
    "jupyter": {
     "outputs_hidden": false
    }
   },
   "outputs": [
    {
     "data": {
      "text/plain": [
       "(-50.0, 50.0)"
      ]
     },
     "execution_count": 16,
     "metadata": {},
     "output_type": "execute_result"
    },
    {
     "data": {
      "image/png": "[encoded data removed]",
      "text/plain": [
       "<Figure size 432x288 with 1 Axes>"
      ]
     },
     "metadata": {},
     "output_type": "display_data"
    }
   ],
   "source": [
    "ax = sns.violinplot(data=df, x='ARR_DELAY', y='ontime', \n",
    "                    inner='box', orient='h', gridsize=1000)\n",
    "ax.set_xlim(-50, 50)"
   ]
  },
  {
   "cell_type": "code",
   "execution_count": 17,
   "metadata": {
    "collapsed": false,
    "jupyter": {
     "outputs_hidden": false
    }
   },
   "outputs": [],
   "source": [
    "%%bigquery depdelay\n",
    "SELECT\n",
    "  *\n",
    "FROM (\n",
    "  SELECT\n",
    "    DEP_DELAY,\n",
    "    AVG(ARR_DELAY) AS arrival_delay,\n",
    "    STDDEV(ARR_DELAY) AS stddev_arrival_delay,\n",
    "    COUNT(ARR_DELAY) AS numflights\n",
    "  FROM\n",
    "    `flights.tzcorr`\n",
    "  GROUP BY\n",
    "    DEP_DELAY )\n",
    "WHERE\n",
    "  numflights > 370\n",
    "ORDER BY\n",
    "  DEP_DELAY"
   ]
  },
  {
   "cell_type": "code",
   "execution_count": 18,
   "metadata": {
    "collapsed": false,
    "jupyter": {
     "outputs_hidden": false
    }
   },
   "outputs": [
    {
     "data": {
      "text/html": [
       "<div>\n",
       "<style scoped>\n",
       "    .dataframe tbody tr th:only-of-type {\n",
       "        vertical-align: middle;\n",
       "    }\n",
       "\n",
       "    .dataframe tbody tr th {\n",
       "        vertical-align: top;\n",
       "    }\n",
       "\n",
       "    .dataframe thead th {\n",
       "        text-align: right;\n",
       "    }\n",
       "</style>\n",
       "<table border=\"1\" class=\"dataframe\">\n",
       "  <thead>\n",
       "    <tr style=\"text-align: right;\">\n",
       "      <th></th>\n",
       "      <th>DEP_DELAY</th>\n",
       "      <th>arrival_delay</th>\n",
       "      <th>stddev_arrival_delay</th>\n",
       "      <th>numflights</th>\n",
       "    </tr>\n",
       "  </thead>\n",
       "  <tbody>\n",
       "    <tr>\n",
       "      <th>0</th>\n",
       "      <td>-23.0</td>\n",
       "      <td>-24.005747</td>\n",
       "      <td>11.095207</td>\n",
       "      <td>522</td>\n",
       "    </tr>\n",
       "    <tr>\n",
       "      <th>1</th>\n",
       "      <td>-22.0</td>\n",
       "      <td>-23.258693</td>\n",
       "      <td>12.300774</td>\n",
       "      <td>719</td>\n",
       "    </tr>\n",
       "    <tr>\n",
       "      <th>2</th>\n",
       "      <td>-21.0</td>\n",
       "      <td>-22.606495</td>\n",
       "      <td>12.094192</td>\n",
       "      <td>1047</td>\n",
       "    </tr>\n",
       "    <tr>\n",
       "      <th>3</th>\n",
       "      <td>-20.0</td>\n",
       "      <td>-21.538365</td>\n",
       "      <td>12.075209</td>\n",
       "      <td>1590</td>\n",
       "    </tr>\n",
       "    <tr>\n",
       "      <th>4</th>\n",
       "      <td>-19.0</td>\n",
       "      <td>-20.591874</td>\n",
       "      <td>12.133052</td>\n",
       "      <td>2215</td>\n",
       "    </tr>\n",
       "  </tbody>\n",
       "</table>\n",
       "</div>"
      ],
      "text/plain": [
       "   DEP_DELAY  arrival_delay  stddev_arrival_delay  numflights\n",
       "0      -23.0     -24.005747             11.095207         522\n",
       "1      -22.0     -23.258693             12.300774         719\n",
       "2      -21.0     -22.606495             12.094192        1047\n",
       "3      -20.0     -21.538365             12.075209        1590\n",
       "4      -19.0     -20.591874             12.133052        2215"
      ]
     },
     "execution_count": 18,
     "metadata": {},
     "output_type": "execute_result"
    }
   ],
   "source": [
    "depdelay[:5]"
   ]
  },
  {
   "cell_type": "code",
   "execution_count": 19,
   "metadata": {
    "collapsed": false,
    "jupyter": {
     "outputs_hidden": false
    }
   },
   "outputs": [
    {
     "data": {
      "image/png": "[encoded data removed]",
      "text/plain": [
       "<Figure size 432x288 with 1 Axes>"
      ]
     },
     "metadata": {},
     "output_type": "display_data"
    }
   ],
   "source": [
    "ax = depdelay.plot(kind='line', x='DEP_DELAY', \n",
    "              y='arrival_delay', yerr='stddev_arrival_delay')"
   ]
  },
  {
   "cell_type": "code",
   "execution_count": 20,
   "metadata": {
    "collapsed": false,
    "jupyter": {
     "outputs_hidden": false
    }
   },
   "outputs": [
    {
     "name": "stderr",
     "output_type": "stream",
     "text": [
      "/opt/conda/lib/python3.7/site-packages/ipykernel_launcher.py:6: MatplotlibDeprecationWarning: Adding an axes using the same arguments as a previous axes currently reuses the earlier instance.  In a future version, a new instance will always be created and returned.  Meanwhile, this warning can be suppressed, and the future behavior ensured, by passing a unique label to each axes instance.\n",
      "  \n"
     ]
    },
    {
     "data": {
      "image/png": "[encoded data removed]",
      "text/plain": [
       "<Figure size 432x288 with 1 Axes>"
      ]
     },
     "metadata": {},
     "output_type": "display_data"
    }
   ],
   "source": [
    "import matplotlib.pyplot as plt\n",
    "Z_30 = 0.52\n",
    "depdelay['arr_delay_30'] = (Z_30 * depdelay['stddev_arrival_delay']) \\\n",
    "             + depdelay['arrival_delay']\n",
    "plt.axhline(y=15, color='r')\n",
    "ax = plt.axes()\n",
    "depdelay.plot(kind='line', x='DEP_DELAY', y='arr_delay_30',\n",
    "              ax=ax, ylim=(0,30), xlim=(0,30), legend=False)\n",
    "ax.set_xlabel('Departure Delay (minutes)')\n",
    "ax.set_ylabel('> 30% likelihood of this Arrival Delay (minutes)');"
   ]
  },
  {
   "cell_type": "code",
   "execution_count": 21,
   "metadata": {},
   "outputs": [],
   "source": [
    "%%bigquery depdelay\n",
    "SELECT\n",
    "  DEP_DELAY,\n",
    "  arrival_delay,\n",
    "  numflights\n",
    "FROM (\n",
    "  SELECT\n",
    "    DEP_DELAY,\n",
    "    APPROX_QUANTILES(ARR_DELAY,\n",
    "      101)[OFFSET(70)] AS arrival_delay,\n",
    "    COUNT(ARR_DELAY) AS numflights\n",
    "  FROM\n",
    "    `flights.tzcorr`\n",
    "  GROUP BY\n",
    "    DEP_DELAY )\n",
    "WHERE\n",
    "  numflights > 370\n",
    "ORDER BY\n",
    "  DEP_DELAY"
   ]
  },
  {
   "cell_type": "code",
   "execution_count": 23,
   "metadata": {
    "collapsed": false,
    "jupyter": {
     "outputs_hidden": false
    }
   },
   "outputs": [
    {
     "name": "stderr",
     "output_type": "stream",
     "text": [
      "/opt/conda/lib/python3.7/site-packages/ipykernel_launcher.py:2: MatplotlibDeprecationWarning: Adding an axes using the same arguments as a previous axes currently reuses the earlier instance.  In a future version, a new instance will always be created and returned.  Meanwhile, this warning can be suppressed, and the future behavior ensured, by passing a unique label to each axes instance.\n",
      "  \n"
     ]
    },
    {
     "data": {
      "image/png": "[encoded data removed]",
      "text/plain": [
       "<Figure size 432x288 with 1 Axes>"
      ]
     },
     "metadata": {},
     "output_type": "display_data"
    }
   ],
   "source": [
    "plt.axhline(y=15, color='r')\n",
    "ax = plt.axes()\n",
    "depdelay.plot(kind='line', x='DEP_DELAY', y='arrival_delay',\n",
    "              ax=ax, ylim=(0,30), xlim=(0,30), legend=False)\n",
    "ax.set_xlabel('Departure Delay (minutes)')\n",
    "ax.set_ylabel('> 30% likelihood of this Arrival Delay (minutes)');"
   ]
  },
  {
   "cell_type": "code",
   "execution_count": 24,
   "metadata": {},
   "outputs": [],
   "source": [
    "%%bigquery depdelay\n",
    "SELECT\n",
    "  DEP_DELAY,\n",
    "  arrival_delay,\n",
    "  numflights\n",
    "FROM (\n",
    "  SELECT\n",
    "    DEP_DELAY,\n",
    "    APPROX_QUANTILES(ARR_DELAY,\n",
    "      101)[OFFSET(70)] AS arrival_delay,\n",
    "    COUNT(ARR_DELAY) AS numflights\n",
    "  FROM\n",
    "    `flights.tzcorr` f\n",
    "  JOIN\n",
    "    `flights.trainday` t\n",
    "  ON\n",
    "    f.FL_DATE = t.FL_DATE\n",
    "  WHERE\n",
    "    t.is_train_day = 'True'\n",
    "  GROUP BY\n",
    "    DEP_DELAY )\n",
    "WHERE\n",
    "  numflights > 370\n",
    "ORDER BY\n",
    "  DEP_DELAY"
   ]
  },
  {
   "cell_type": "code",
   "execution_count": 25,
   "metadata": {
    "collapsed": false,
    "jupyter": {
     "outputs_hidden": false
    }
   },
   "outputs": [
    {
     "name": "stderr",
     "output_type": "stream",
     "text": [
      "/opt/conda/lib/python3.7/site-packages/ipykernel_launcher.py:2: MatplotlibDeprecationWarning: Adding an axes using the same arguments as a previous axes currently reuses the earlier instance.  In a future version, a new instance will always be created and returned.  Meanwhile, this warning can be suppressed, and the future behavior ensured, by passing a unique label to each axes instance.\n",
      "  \n"
     ]
    },
    {
     "data": {
      "image/png": "[encoded data removed]",
      "text/plain": [
       "<Figure size 432x288 with 1 Axes>"
      ]
     },
     "metadata": {},
     "output_type": "display_data"
    }
   ],
   "source": [
    "plt.axhline(y=15, color='r')\n",
    "ax = plt.axes()\n",
    "depdelay.plot(kind='line', x='DEP_DELAY', y='arrival_delay',\n",
    "              ax=ax, ylim=(0,30), xlim=(0,30), legend=False)\n",
    "ax.set_xlabel('Departure Delay (minutes)')\n",
    "ax.set_ylabel('> 30% likelihood of this Arrival Delay (minutes)');"
   ]
  },
  {
   "cell_type": "code",
   "execution_count": 26,
   "metadata": {},
   "outputs": [],
   "source": [
    "%%bigquery eval\n",
    "SELECT\n",
    "  SUM(IF(DEP_DELAY < 16\n",
    "      AND arr_delay < 15, 1, 0)) AS correct_nocancel,\n",
    "  SUM(IF(DEP_DELAY < 16\n",
    "      AND arr_delay >= 15, 1, 0)) AS wrong_nocancel,\n",
    "  SUM(IF(DEP_DELAY >= 16\n",
    "      AND arr_delay < 15, 1, 0)) AS wrong_cancel,\n",
    "  SUM(IF(DEP_DELAY >= 16\n",
    "      AND arr_delay >= 15, 1, 0)) AS correct_cancel\n",
    "FROM (\n",
    "  SELECT\n",
    "    DEP_DELAY,\n",
    "    ARR_DELAY\n",
    "  FROM\n",
    "    `flights.tzcorr` f\n",
    "  JOIN\n",
    "    `flights.trainday` t\n",
    "  ON\n",
    "    f.FL_DATE = t.FL_DATE\n",
    "  WHERE\n",
    "    t.is_train_day = 'False' )"
   ]
  },
  {
   "cell_type": "code",
   "execution_count": 27,
   "metadata": {
    "collapsed": false,
    "jupyter": {
     "outputs_hidden": false
    }
   },
   "outputs": [
    {
     "name": "stdout",
     "output_type": "stream",
     "text": [
      "0    0.950408\n",
      "dtype: float64\n",
      "0    0.802263\n",
      "dtype: float64\n"
     ]
    }
   ],
   "source": [
    "print(eval['correct_nocancel'] /\n",
    "      (eval['correct_nocancel'] + eval['wrong_nocancel']))\n",
    "print(eval['correct_cancel'] / \n",
    "      (eval['correct_cancel'] + eval['wrong_cancel']))"
   ]
  },
  {
   "cell_type": "code",
   "execution_count": 28,
   "metadata": {
    "collapsed": false,
    "jupyter": {
     "outputs_hidden": false
    }
   },
   "outputs": [
    {
     "data": {
      "text/html": [
       "<div>\n",
       "<style scoped>\n",
       "    .dataframe tbody tr th:only-of-type {\n",
       "        vertical-align: middle;\n",
       "    }\n",
       "\n",
       "    .dataframe tbody tr th {\n",
       "        vertical-align: top;\n",
       "    }\n",
       "\n",
       "    .dataframe thead th {\n",
       "        text-align: right;\n",
       "    }\n",
       "</style>\n",
       "<table border=\"1\" class=\"dataframe\">\n",
       "  <thead>\n",
       "    <tr style=\"text-align: right;\">\n",
       "      <th></th>\n",
       "      <th>correct_nocancel</th>\n",
       "      <th>wrong_nocancel</th>\n",
       "      <th>wrong_cancel</th>\n",
       "      <th>correct_cancel</th>\n",
       "    </tr>\n",
       "  </thead>\n",
       "  <tbody>\n",
       "    <tr>\n",
       "      <th>0</th>\n",
       "      <td>1389162</td>\n",
       "      <td>72486</td>\n",
       "      <td>58359</td>\n",
       "      <td>236776</td>\n",
       "    </tr>\n",
       "  </tbody>\n",
       "</table>\n",
       "</div>"
      ],
      "text/plain": [
       "   correct_nocancel  wrong_nocancel  wrong_cancel  correct_cancel\n",
       "0           1389162           72486         58359          236776"
      ]
     },
     "execution_count": 28,
     "metadata": {},
     "output_type": "execute_result"
    }
   ],
   "source": [
    "eval.head()"
   ]
  },
  {
   "cell_type": "code",
   "execution_count": 29,
   "metadata": {},
   "outputs": [],
   "source": [
    "%%bigquery eval\n",
    "SELECT\n",
    "  SUM(IF(DEP_DELAY = 15\n",
    "      AND arr_delay < 15, 1, 0)) AS correct_nocancel,\n",
    "  SUM(IF(DEP_DELAY = 15\n",
    "      AND arr_delay >= 15, 1, 0)) AS wrong_nocancel,\n",
    "  SUM(IF(DEP_DELAY = 16\n",
    "      AND arr_delay < 15, 1, 0)) AS wrong_cancel,\n",
    "  SUM(IF(DEP_DELAY = 16\n",
    "      AND arr_delay >= 15, 1, 0)) AS correct_cancel\n",
    "FROM (\n",
    "  SELECT\n",
    "    DEP_DELAY,\n",
    "    ARR_DELAY\n",
    "  FROM\n",
    "    `flights.tzcorr` f\n",
    "  JOIN\n",
    "    `flights.trainday` t\n",
    "  ON\n",
    "    f.FL_DATE = t.FL_DATE\n",
    "  WHERE\n",
    "    t.is_train_day = 'False' )"
   ]
  },
  {
   "cell_type": "code",
   "execution_count": 30,
   "metadata": {
    "collapsed": false,
    "jupyter": {
     "outputs_hidden": false
    }
   },
   "outputs": [
    {
     "data": {
      "text/html": [
       "<div>\n",
       "<style scoped>\n",
       "    .dataframe tbody tr th:only-of-type {\n",
       "        vertical-align: middle;\n",
       "    }\n",
       "\n",
       "    .dataframe tbody tr th {\n",
       "        vertical-align: top;\n",
       "    }\n",
       "\n",
       "    .dataframe thead th {\n",
       "        text-align: right;\n",
       "    }\n",
       "</style>\n",
       "<table border=\"1\" class=\"dataframe\">\n",
       "  <thead>\n",
       "    <tr style=\"text-align: right;\">\n",
       "      <th></th>\n",
       "      <th>correct_nocancel</th>\n",
       "      <th>wrong_nocancel</th>\n",
       "      <th>wrong_cancel</th>\n",
       "      <th>correct_cancel</th>\n",
       "    </tr>\n",
       "  </thead>\n",
       "  <tbody>\n",
       "    <tr>\n",
       "      <th>0</th>\n",
       "      <td>8474</td>\n",
       "      <td>3179</td>\n",
       "      <td>7459</td>\n",
       "      <td>3195</td>\n",
       "    </tr>\n",
       "  </tbody>\n",
       "</table>\n",
       "</div>"
      ],
      "text/plain": [
       "   correct_nocancel  wrong_nocancel  wrong_cancel  correct_cancel\n",
       "0              8474            3179          7459            3195"
      ]
     },
     "execution_count": 30,
     "metadata": {},
     "output_type": "execute_result"
    }
   ],
   "source": [
    "eval.head()"
   ]
  },
  {
   "cell_type": "code",
   "execution_count": 31,
   "metadata": {
    "collapsed": false,
    "jupyter": {
     "outputs_hidden": false
    }
   },
   "outputs": [
    {
     "name": "stdout",
     "output_type": "stream",
     "text": [
      "0    0.727195\n",
      "dtype: float64\n",
      "0    0.299887\n",
      "dtype: float64\n"
     ]
    }
   ],
   "source": [
    "print(eval['correct_nocancel'] / (eval['correct_nocancel'] + eval['wrong_nocancel']))\n",
    "print(eval['correct_cancel'] / (eval['correct_cancel'] + eval['wrong_cancel']))"
   ]
  },
  {
   "cell_type": "markdown",
   "metadata": {},
   "source": [
    "## Sending to a temporary table"
   ]
  },
  {
   "cell_type": "code",
   "execution_count": 32,
   "metadata": {},
   "outputs": [
    {
     "name": "stdout",
     "output_type": "stream",
     "text": [
      "Dataset 'data-science-college:temp_dataset' successfully created.\n"
     ]
    }
   ],
   "source": [
    "!bq mk temp_dataset"
   ]
  },
  {
   "cell_type": "code",
   "execution_count": 33,
   "metadata": {},
   "outputs": [
    {
     "data": {
      "text/html": [
       "<div>\n",
       "<style scoped>\n",
       "    .dataframe tbody tr th:only-of-type {\n",
       "        vertical-align: middle;\n",
       "    }\n",
       "\n",
       "    .dataframe tbody tr th {\n",
       "        vertical-align: top;\n",
       "    }\n",
       "\n",
       "    .dataframe thead th {\n",
       "        text-align: right;\n",
       "    }\n",
       "</style>\n",
       "<table border=\"1\" class=\"dataframe\">\n",
       "  <thead>\n",
       "    <tr style=\"text-align: right;\">\n",
       "      <th></th>\n",
       "    </tr>\n",
       "  </thead>\n",
       "  <tbody>\n",
       "  </tbody>\n",
       "</table>\n",
       "</div>"
      ],
      "text/plain": [
       "Empty DataFrame\n",
       "Columns: []\n",
       "Index: []"
      ]
     },
     "execution_count": 33,
     "metadata": {},
     "output_type": "execute_result"
    }
   ],
   "source": [
    "%%bigquery\n",
    "CREATE OR REPLACE TABLE temp_dataset.delays\n",
    "AS\n",
    "\n",
    "SELECT\n",
    "  DEP_DELAY,\n",
    "  arrival_delay,\n",
    "  numflights\n",
    "FROM (\n",
    "  SELECT\n",
    "    DEP_DELAY,\n",
    "    APPROX_QUANTILES(ARR_DELAY,\n",
    "      101)[OFFSET(70)] AS arrival_delay,\n",
    "    COUNT(ARR_DELAY) AS numflights\n",
    "  FROM\n",
    "    `flights.tzcorr` f\n",
    "  JOIN\n",
    "    `flights.trainday` t\n",
    "  ON\n",
    "    f.FL_DATE = t.FL_DATE\n",
    "  WHERE\n",
    "    t.is_train_day = 'True'\n",
    "  GROUP BY\n",
    "    DEP_DELAY )\n",
    "WHERE\n",
    "  numflights > 370\n",
    "ORDER BY\n",
    "  DEP_DELAY"
   ]
  },
  {
   "cell_type": "code",
   "execution_count": 34,
   "metadata": {},
   "outputs": [],
   "source": [
    "!bq rm -f temp_dataset.delays\n",
    "!bq rm -f temp_dataset"
   ]
  },
  {
   "cell_type": "code",
   "execution_count": null,
   "metadata": {},
   "outputs": [],
   "source": [
    "Copyright 2019 Google Inc. Licensed under the Apache License, Version 2.0 (the \"License\"); you may not use this file except in compliance with the License. You may obtain a copy of the License at http://www.apache.org/licenses/LICENSE-2.0 Unless required by applicable law or agreed to in writing, software distributed under the License is distributed on an \"AS IS\" BASIS, WITHOUT WARRANTIES OR CONDITIONS OF ANY KIND, either express or implied. See the License for the specific language governing permissions and limitations under the License."
   ]
  },
  {
   "cell_type": "code",
   "execution_count": null,
   "metadata": {},
   "outputs": [],
   "source": []
  }
 ],
 "metadata": {
  "environment": {
   "name": "common-cpu.m46",
   "type": "gcloud",
   "uri": "gcr.io/deeplearning-platform-release/base-cpu:m46"
  },
  "kernelspec": {
   "display_name": "Python 3",
   "language": "python",
   "name": "python3"
  },
  "language_info": {
   "codemirror_mode": {
    "name": "ipython",
    "version": 3
   },
   "file_extension": ".py",
   "mimetype": "text/x-python",
   "name": "python",
   "nbconvert_exporter": "python",
   "pygments_lexer": "ipython3",
   "version": "3.7.6"
  }
 },
 "nbformat": 4,
 "nbformat_minor": 4
}
